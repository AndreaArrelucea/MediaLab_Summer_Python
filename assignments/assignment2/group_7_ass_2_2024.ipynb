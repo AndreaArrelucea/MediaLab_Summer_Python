{
 "cells": [
  {
   "cell_type": "code",
   "execution_count": null,
   "id": "44b54538",
   "metadata": {},
   "outputs": [],
   "source": [
    "##GRUPO 7"
   ]
  },
  {
   "cell_type": "markdown",
   "id": "44f81bbe",
   "metadata": {},
   "source": [
    "# Assignment 2"
   ]
  },
  {
   "cell_type": "code",
   "execution_count": null,
   "id": "17f20bfa",
   "metadata": {},
   "outputs": [],
   "source": []
  },
  {
   "cell_type": "markdown",
   "id": "1b9b7833",
   "metadata": {},
   "source": [
    "### Exercise 1: Basic Dictionary Creation and Access\n",
    "Objective: Create a dictionary named student_info containing at least three key-value pairs where keys are student names (as strings) and values are their respective ages (as integers). Then, access and print the age of a specific student."
   ]
  },
  {
   "cell_type": "code",
   "execution_count": 13,
   "id": "ae9404e2",
   "metadata": {},
   "outputs": [],
   "source": [
    "# En primer lugar, se crea un diccionario con las edades de cuatro estudiantes."
   ]
  },
  {
   "cell_type": "code",
   "execution_count": 23,
   "id": "e8014690",
   "metadata": {},
   "outputs": [],
   "source": [
    "estudiantes_informacion = {\"Luis Aviles\": 20,\"Renato Contreras\": 18,\"Melisa Cardenas\": 19,\"Fernanda Rios\": 21}"
   ]
  },
  {
   "cell_type": "code",
   "execution_count": 15,
   "id": "31be177a",
   "metadata": {},
   "outputs": [],
   "source": [
    "# En segundo lugar, se ejecuta la edad de un estudiante en específico. Como lo puede ser Fernanda Rios o Luis Áviles."
   ]
  },
  {
   "cell_type": "code",
   "execution_count": 22,
   "id": "76069fa2",
   "metadata": {},
   "outputs": [
    {
     "name": "stdout",
     "output_type": "stream",
     "text": [
      "21\n"
     ]
    }
   ],
   "source": [
    "print (estudiantes_informacion[\"Fernanda Rios\"])"
   ]
  },
  {
   "cell_type": "code",
   "execution_count": 24,
   "id": "9d196f44",
   "metadata": {},
   "outputs": [
    {
     "name": "stdout",
     "output_type": "stream",
     "text": [
      "20\n"
     ]
    }
   ],
   "source": [
    "print (estudiantes_informacion[\"Luis Aviles\"])"
   ]
  },
  {
   "cell_type": "markdown",
   "id": "efd06477",
   "metadata": {},
   "source": []
  },
  {
   "cell_type": "code",
   "execution_count": null,
   "id": "e3145d85",
   "metadata": {},
   "outputs": [],
   "source": [
    "### Exercise 2: Modifying Dictionary Values\n",
    "**Objective:** Start with a dictionary `product_prices` where keys are product names (strings) and values are their prices (floats). Select a product and update its price. Then, add a new product with its price to the dictionary."
   ]
  },
  {
   "cell_type": "code",
   "execution_count": 30,
   "id": "26b990b2",
   "metadata": {},
   "outputs": [],
   "source": [
    "# Initial product prices\n",
    "product_prices = {\"Laptop\": 999.99,\"Smartphone\": 499.99,\"Headphones\": 89.99,\"Camera\": 279.99}"
   ]
  },
  {
   "cell_type": "code",
   "execution_count": null,
   "id": "35614255",
   "metadata": {},
   "outputs": [],
   "source": [
    "# Modificaremos el precio del producto \"Laptop\""
   ]
  },
  {
   "cell_type": "code",
   "execution_count": 31,
   "id": "21d2ebf6",
   "metadata": {},
   "outputs": [],
   "source": [
    "product_prices[\"Laptop\"] = 1100.50"
   ]
  },
  {
   "cell_type": "code",
   "execution_count": 32,
   "id": "1967dbcb",
   "metadata": {},
   "outputs": [
    {
     "name": "stdout",
     "output_type": "stream",
     "text": [
      "{'Laptop': 1100.5, 'Smartphone': 499.99, 'Headphones': 89.99, 'Camera': 279.99}\n"
     ]
    }
   ],
   "source": [
    "# Comprobamos la modificación\n",
    "print (product_prices)"
   ]
  },
  {
   "cell_type": "code",
   "execution_count": 33,
   "id": "4f729c90",
   "metadata": {},
   "outputs": [],
   "source": [
    "# Además, agregaremos un producto con su precio al diccionario\n",
    "product_prices[\"USB\"] = 35.70"
   ]
  },
  {
   "cell_type": "code",
   "execution_count": 34,
   "id": "88c79629",
   "metadata": {},
   "outputs": [
    {
     "name": "stdout",
     "output_type": "stream",
     "text": [
      "{'Laptop': 1100.5, 'Smartphone': 499.99, 'Headphones': 89.99, 'Camera': 279.99, 'USB': 35.7}\n"
     ]
    }
   ],
   "source": [
    "# Comprobamos\n",
    "print (product_prices)"
   ]
  },
  {
   "cell_type": "code",
   "execution_count": null,
   "id": "f993e276",
   "metadata": {},
   "outputs": [],
   "source": [
    "### Exercise 3: Dictionary Comprehension\n",
    "**Objective:** Create a dictionary `squared_numbers` using dictionary comprehension where keys are integers from 1 to 10, and values are the squares of these keys."
   ]
  },
  {
   "cell_type": "code",
   "execution_count": 35,
   "id": "b971d646",
   "metadata": {},
   "outputs": [],
   "source": [
    "# Se desarrolla el diccionario en un rango del 1 al 10. El código se coloca del 1 al 11, para que agarre hasta el 10 en su ejecución.\n",
    "squared_numbers = {x: x**2 for x in range(1, 11)}"
   ]
  },
  {
   "cell_type": "code",
   "execution_count": 36,
   "id": "3c9580dc",
   "metadata": {},
   "outputs": [
    {
     "name": "stdout",
     "output_type": "stream",
     "text": [
      "{1: 1, 2: 4, 3: 9, 4: 16, 5: 25, 6: 36, 7: 49, 8: 64, 9: 81, 10: 100}\n"
     ]
    }
   ],
   "source": [
    "# Se comprueba/ejecuta el diccionario\n",
    "print (squared_numbers)"
   ]
  },
  {
   "cell_type": "code",
   "execution_count": null,
   "id": "fb752ed9",
   "metadata": {},
   "outputs": [],
   "source": [
    "### Exercise 4: Nested Dictionaries\n",
    "**Objective:** Create a nested dictionary `employee_data` where each key is an employee ID (integer) and each value is another dictionary with keys 'Name', 'Position', and 'Salary'. Then, access and print the name and position of a specific employee by their ID. This dictionary `employee_data` should have only 5 keys."
   ]
  },
  {
   "cell_type": "code",
   "execution_count": null,
   "id": "c292ac2f",
   "metadata": {},
   "outputs": [],
   "source": []
  },
  {
   "cell_type": "code",
   "execution_count": null,
   "id": "06ac836e",
   "metadata": {},
   "outputs": [],
   "source": [
    "### Exercise 5: Merging Dictionaries\n",
    "**Objective:** You have two dictionaries `dict1` and `dict2` with non-overlapping keys. Merge these two dictionaries into a new dictionary `merged_dict` and print its contents. This `merged_dict` dict should have all the keys."
   ]
  },
  {
   "cell_type": "code",
   "execution_count": 1,
   "id": "d5cc1405",
   "metadata": {},
   "outputs": [],
   "source": [
    "dict1 = {\"A\": 1, \"B\": 2, \"C\": 3}\n",
    "dict2 = {\"D\": 4, \"E\": 5, \"F\": 6}"
   ]
  },
  {
   "cell_type": "markdown",
   "id": "b9b4a06c",
   "metadata": {},
   "source": [
    "## Pandas"
   ]
  },
  {
   "cell_type": "markdown",
   "id": "450d0d1f",
   "metadata": {},
   "source": [
    "### Exercise 1: Selecting Single Column with .loc\n",
    "**Objective**: Use .loc to select and print only the 'Name' column for all rows.\n",
    "\n",
    "### Exercise 2: Row Slicing with .iloc\n",
    "**Objective**: Use .iloc to select and print rows 2 through 4 (inclusive).\n",
    "\n",
    "### Exercise 3: Selecting Multiple Columns with .iloc\n",
    "**Objective**: Use .iloc to select and print the 'Name' and 'Age' columns for all rows.\n",
    "\n",
    "### Exercise 4: Conditional Selection with .loc\n",
    "**Objective**: Use .loc to select and print rows where the 'Age' is greater than 30.\n",
    "\n",
    "### Exercise 5: Modifying Data with .loc\n",
    "**Objective**: Use .loc to change the 'City' of the person named 'Alice' to 'Boston'. Then, print the updated DataFrame."
   ]
  },
  {
   "cell_type": "code",
   "execution_count": null,
   "id": "85e88f4c",
   "metadata": {},
   "outputs": [],
   "source": [
    "# Creating a DataFrame for the exercise\n",
    "data = {\n",
    "    'Name': ['Alice', 'Bob', 'Charlie', 'David', 'Eva'],\n",
    "    'Age': [25, 30, 35, 40, 45],\n",
    "    'City': ['New York', 'Los Angeles', 'Chicago', 'Houston', 'Miami']\n",
    "}"
   ]
  }
 ],
 "metadata": {
  "kernelspec": {
   "display_name": "Python 3 (ipykernel)",
   "language": "python",
   "name": "python3"
  },
  "language_info": {
   "codemirror_mode": {
    "name": "ipython",
    "version": 3
   },
   "file_extension": ".py",
   "mimetype": "text/x-python",
   "name": "python",
   "nbconvert_exporter": "python",
   "pygments_lexer": "ipython3",
   "version": "3.11.5"
  }
 },
 "nbformat": 4,
 "nbformat_minor": 5
}
