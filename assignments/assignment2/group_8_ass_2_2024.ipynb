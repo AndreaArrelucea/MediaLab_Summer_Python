{
 "cells": [
  {
   "cell_type": "markdown",
   "id": "44f81bbe",
   "metadata": {},
   "source": [
    "# Assignment 2"
   ]
  },
  {
   "cell_type": "markdown",
   "id": "1b9b7833",
   "metadata": {},
   "source": [
    "### Exercise 1: Basic Dictionary Creation and Access\n",
    "Objective: Create a dictionary named student_info containing at least three key-value pairs where keys are student names (as strings) and values are their respective ages (as integers). Then, access and print the age of a specific student."
   ]
  },
  {
   "cell_type": "code",
   "execution_count": null,
   "id": "8854b282",
   "metadata": {},
   "outputs": [],
   "source": []
  },
  {
   "cell_type": "markdown",
   "id": "efd06477",
   "metadata": {},
   "source": [
    "### Exercise 2: Modifying Dictionary Values\n",
    "**Objective:** Start with a dictionary `product_prices` where keys are product names (strings) and values are their prices (floats). Select a product and update its price. Then, add a new product with its price to the dictionary."
   ]
  },
  {
   "cell_type": "code",
   "execution_count": null,
   "id": "df7d869a",
   "metadata": {},
   "outputs": [],
   "source": [
    "# Initial product prices\n",
    "product_prices = {\n",
    "    \"Laptop\": 999.99,\n",
    "    \"Smartphone\": 499.99,\n",
    "    \"Headphones\": 89.99,\n",
    "    \"Camera\": 279.99\n",
    "}\n"
   ]
  },
  {
   "cell_type": "markdown",
   "id": "5597cce6",
   "metadata": {},
   "source": []
  },
  {
   "cell_type": "markdown",
   "id": "60071502",
   "metadata": {},
   "source": [
    "### Exercise 3: Dictionary Comprehension\n",
    "**Objective:** Create a dictionary `squared_numbers` using dictionary comprehension where keys are integers from 1 to 10, and values are the squares of these keys."
   ]
  },
  {
   "cell_type": "code",
   "execution_count": null,
   "id": "17f713dc",
   "metadata": {},
   "outputs": [],
   "source": []
  },
  {
   "cell_type": "markdown",
   "id": "80604f60",
   "metadata": {},
   "source": [
    "### Exercise 4: Nested Dictionaries\n",
    "**Objective:** Create a nested dictionary `employee_data` where each key is an employee ID (integer) and each value is another dictionary with keys 'Name', 'Position', and 'Salary'. Then, access and print the name and position of a specific employee by their ID. This dictionary `employee_data` should have only 5 keys.\n"
   ]
  },
  {
   "cell_type": "markdown",
   "id": "91af266f",
   "metadata": {},
   "source": [
    "If we want to create nested dictionaries, the procedure is quite simple: instead of puting a value in the values place we put new brackets where we write the nested dictionarie. "
   ]
  },
  {
   "cell_type": "code",
   "execution_count": 51,
   "id": "af6d2e7a",
   "metadata": {},
   "outputs": [],
   "source": [
    "employee_data = {\n",
    "    \"045\": {\n",
    "        'Name': 'Mariano Gutierrez',\n",
    "        'Position': 'Project Manager',\n",
    "        'Salary': 5000\n",
    "    },  \n",
    "    \"047\": {\n",
    "        'Name': 'Andrea Gonzales',\n",
    "        'Position': 'Business Analyst',\n",
    "        'Salary': 3500\n",
    "    },  \n",
    "    \"050\": {\n",
    "        'Name': 'Alejandra Espejo',\n",
    "        'Position': 'Financial Management',\n",
    "        'Salary': 6000\n",
    "    }, \n",
    "    \"053\": {\n",
    "        'Name': 'Kevin Garcia',\n",
    "        'Position': 'Marketing Manager',\n",
    "        'Salary': 4500\n",
    "    }, \n",
    "    \"060\": {\n",
    "        'Name': 'Anibal Benavides',\n",
    "        'Position': 'Human Resources Manager',\n",
    "        'Salary': 3000\n",
    "    }\n",
    "}"
   ]
  },
  {
   "cell_type": "markdown",
   "id": "70987658",
   "metadata": {},
   "source": [
    "Then we have to print the elements in the nested dictionaries we have to first write in brackets the outer key and then the inner key like this: print (nested_dictionarie[outer_key][inner_key])"
   ]
  },
  {
   "cell_type": "code",
   "execution_count": 56,
   "id": "96026f51",
   "metadata": {},
   "outputs": [
    {
     "name": "stdout",
     "output_type": "stream",
     "text": [
      "Alejandra Espejo\n"
     ]
    }
   ],
   "source": [
    "print(employee_data[\"050\"]['Name'])"
   ]
  },
  {
   "cell_type": "code",
   "execution_count": 54,
   "id": "19cfe0a8",
   "metadata": {},
   "outputs": [
    {
     "name": "stdout",
     "output_type": "stream",
     "text": [
      "Financial Management\n"
     ]
    }
   ],
   "source": [
    "print(employee_data[\"050\"]['Position'])"
   ]
  },
  {
   "cell_type": "markdown",
   "id": "54b0161f",
   "metadata": {},
   "source": [
    "\n",
    "### Exercise 5: Merging Dictionaries\n",
    "**Objective:** You have two dictionaries `dict1` and `dict2` with non-overlapping keys. Merge these two dictionaries into a new dictionary `merged_dict` and print its contents. This `merged_dict` dict should have all the keys.\n"
   ]
  },
  {
   "cell_type": "code",
   "execution_count": 57,
   "id": "d5cc1405",
   "metadata": {},
   "outputs": [],
   "source": [
    "dict1 = {\"A\": 1, \"B\": 2, \"C\": 3}\n",
    "dict2 = {\"D\": 4, \"E\": 5, \"F\": 6}"
   ]
  },
  {
   "cell_type": "markdown",
   "id": "0ed53c38",
   "metadata": {},
   "source": [
    "There exist to methods for merging these to dicitonaries, one would be to update dict 1 adding dict 2. The other one is using the ** creatign a new dicitonarie, this is what we are going to do. We just have to write:"
   ]
  },
  {
   "cell_type": "code",
   "execution_count": 58,
   "id": "9afcdd03",
   "metadata": {},
   "outputs": [
    {
     "name": "stdout",
     "output_type": "stream",
     "text": [
      "{'A': 1, 'B': 2, 'C': 3, 'D': 4, 'E': 5, 'F': 6}\n"
     ]
    }
   ],
   "source": [
    "merged_dict = {**dict1, **dict2}\n",
    "#Then we print\n",
    "print(merged_dict)"
   ]
  },
  {
   "cell_type": "markdown",
   "id": "b9b4a06c",
   "metadata": {},
   "source": [
    "## Pandas"
   ]
  },
  {
   "cell_type": "code",
   "execution_count": 60,
   "id": "bc83502a",
   "metadata": {},
   "outputs": [],
   "source": [
    "# Creating a DataFrame for the exercise\n",
    "data = {\n",
    "    'Name': ['Alice', 'Bob', 'Charlie', 'David', 'Eva'],\n",
    "    'Age': [25, 30, 35, 40, 45],\n",
    "    'City': ['New York', 'Los Angeles', 'Chicago', 'Houston', 'Miami']\n",
    "}"
   ]
  },
  {
   "cell_type": "code",
   "execution_count": 62,
   "id": "deeffe38",
   "metadata": {},
   "outputs": [],
   "source": [
    "#We import pandas an the convert the dictionarie into a Dataframe\n",
    "import pandas as pd"
   ]
  },
  {
   "cell_type": "code",
   "execution_count": 69,
   "id": "3bb14d6c",
   "metadata": {},
   "outputs": [
    {
     "data": {
      "text/html": [
       "<div>\n",
       "<style scoped>\n",
       "    .dataframe tbody tr th:only-of-type {\n",
       "        vertical-align: middle;\n",
       "    }\n",
       "\n",
       "    .dataframe tbody tr th {\n",
       "        vertical-align: top;\n",
       "    }\n",
       "\n",
       "    .dataframe thead th {\n",
       "        text-align: right;\n",
       "    }\n",
       "</style>\n",
       "<table border=\"1\" class=\"dataframe\">\n",
       "  <thead>\n",
       "    <tr style=\"text-align: right;\">\n",
       "      <th></th>\n",
       "      <th>Name</th>\n",
       "      <th>Age</th>\n",
       "      <th>City</th>\n",
       "    </tr>\n",
       "  </thead>\n",
       "  <tbody>\n",
       "    <tr>\n",
       "      <th>0</th>\n",
       "      <td>Alice</td>\n",
       "      <td>25</td>\n",
       "      <td>New York</td>\n",
       "    </tr>\n",
       "    <tr>\n",
       "      <th>1</th>\n",
       "      <td>Bob</td>\n",
       "      <td>30</td>\n",
       "      <td>Los Angeles</td>\n",
       "    </tr>\n",
       "    <tr>\n",
       "      <th>2</th>\n",
       "      <td>Charlie</td>\n",
       "      <td>35</td>\n",
       "      <td>Chicago</td>\n",
       "    </tr>\n",
       "    <tr>\n",
       "      <th>3</th>\n",
       "      <td>David</td>\n",
       "      <td>40</td>\n",
       "      <td>Houston</td>\n",
       "    </tr>\n",
       "    <tr>\n",
       "      <th>4</th>\n",
       "      <td>Eva</td>\n",
       "      <td>45</td>\n",
       "      <td>Miami</td>\n",
       "    </tr>\n",
       "  </tbody>\n",
       "</table>\n",
       "</div>"
      ],
      "text/plain": [
       "      Name  Age         City\n",
       "0    Alice   25     New York\n",
       "1      Bob   30  Los Angeles\n",
       "2  Charlie   35      Chicago\n",
       "3    David   40      Houston\n",
       "4      Eva   45        Miami"
      ]
     },
     "execution_count": 69,
     "metadata": {},
     "output_type": "execute_result"
    }
   ],
   "source": [
    "Data_frame = pd.DataFrame(data)\n",
    "Data_frame"
   ]
  },
  {
   "cell_type": "markdown",
   "id": "450d0d1f",
   "metadata": {},
   "source": [
    "### Exercise 1: Selecting Single Column with .loc\n",
    "**Objective**: Use .loc to select and print only the 'Name' column for all rows."
   ]
  },
  {
   "cell_type": "code",
   "execution_count": null,
   "id": "6073aa6d",
   "metadata": {},
   "outputs": [],
   "source": []
  },
  {
   "cell_type": "markdown",
   "id": "14e35a1a",
   "metadata": {},
   "source": [
    "### Exercise 2: Row Slicing with .iloc\n",
    "**Objective**: Use .iloc to select and print rows 2 through 4 (inclusive)."
   ]
  },
  {
   "cell_type": "code",
   "execution_count": null,
   "id": "5daac8c1",
   "metadata": {},
   "outputs": [],
   "source": []
  },
  {
   "cell_type": "markdown",
   "id": "d1ece008",
   "metadata": {},
   "source": [
    "### Exercise 3: Selecting Multiple Columns with .iloc\n",
    "**Objective**: Use .iloc to select and print the 'Name' and 'Age' columns for all rows."
   ]
  },
  {
   "cell_type": "code",
   "execution_count": null,
   "id": "3fbf92e6",
   "metadata": {},
   "outputs": [],
   "source": []
  },
  {
   "cell_type": "markdown",
   "id": "7c203797",
   "metadata": {},
   "source": [
    "### Exercise 4: Conditional Selection with .loc\n",
    "**Objective**: Use .loc to select and print rows where the 'Age' is greater than 30."
   ]
  },
  {
   "cell_type": "markdown",
   "id": "8bc0cf21",
   "metadata": {},
   "source": [
    "In this case with .loc we create a boolean condition where loc finds every value grater than 30, for this we write as it follows"
   ]
  },
  {
   "cell_type": "code",
   "execution_count": 72,
   "id": "6d030410",
   "metadata": {
    "scrolled": true
   },
   "outputs": [
    {
     "name": "stdout",
     "output_type": "stream",
     "text": [
      "      Name  Age     City\n",
      "2  Charlie   35  Chicago\n",
      "3    David   40  Houston\n",
      "4      Eva   45    Miami\n"
     ]
    }
   ],
   "source": [
    "More_30 = Data_frame.loc[Data_frame['Age']>30]\n",
    "\n",
    "#Then we print the object where we saved the rows where Age is greater than 30\n",
    "print(More_30)"
   ]
  },
  {
   "cell_type": "markdown",
   "id": "218f38e7",
   "metadata": {},
   "source": [
    "### Exercise 5: Modifying Data with .loc\n",
    "**Objective**: Use .loc to change the 'City' of the person named 'Alice' to 'Boston'. Then, print the updated DataFrame."
   ]
  },
  {
   "cell_type": "markdown",
   "id": "36131244",
   "metadata": {},
   "source": [
    "We first use the loc function to find Alice with DF.loc[DF[Name]]==Alice and then by the coma and closing the brackets\n",
    "we are saying that we want to change the city column. Finally we write the new value after the equals sing so we can establish\n",
    "the new value we want."
   ]
  },
  {
   "cell_type": "code",
   "execution_count": 73,
   "id": "f16031cc",
   "metadata": {},
   "outputs": [],
   "source": [
    " Data_frame.loc[Data_frame['Name'] == 'Alice', 'City'] = 'Boston'"
   ]
  },
  {
   "cell_type": "code",
   "execution_count": 74,
   "id": "151b0cde",
   "metadata": {},
   "outputs": [
    {
     "name": "stdout",
     "output_type": "stream",
     "text": [
      "      Name  Age         City\n",
      "0    Alice   25       Boston\n",
      "1      Bob   30  Los Angeles\n",
      "2  Charlie   35      Chicago\n",
      "3    David   40      Houston\n",
      "4      Eva   45        Miami\n"
     ]
    }
   ],
   "source": [
    "print(Data_frame)"
   ]
  }
 ],
 "metadata": {
  "kernelspec": {
   "display_name": "Python 3 (ipykernel)",
   "language": "python",
   "name": "python3"
  },
  "language_info": {
   "codemirror_mode": {
    "name": "ipython",
    "version": 3
   },
   "file_extension": ".py",
   "mimetype": "text/x-python",
   "name": "python",
   "nbconvert_exporter": "python",
   "pygments_lexer": "ipython3",
   "version": "3.9.13"
  }
 },
 "nbformat": 4,
 "nbformat_minor": 5
}
