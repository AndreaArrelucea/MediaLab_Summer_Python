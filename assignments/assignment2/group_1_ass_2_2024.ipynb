{
 "cells": [
  {
   "cell_type": "code",
   "execution_count": 1,
   "id": "ce22566d",
   "metadata": {},
   "outputs": [],
   "source": [
    "#Exercise_1\n",
    "student_info={\"pablo\":34,\"sofia\":34,\"gisella\":34}\n"
   ]
  },
  {
   "cell_type": "code",
   "execution_count": 2,
   "id": "514d6b63",
   "metadata": {},
   "outputs": [
    {
     "data": {
      "text/plain": [
       "dict"
      ]
     },
     "execution_count": 2,
     "metadata": {},
     "output_type": "execute_result"
    }
   ],
   "source": [
    "type(student_info)\n"
   ]
  },
  {
   "cell_type": "code",
   "execution_count": 3,
   "id": "6e658299",
   "metadata": {},
   "outputs": [
    {
     "name": "stdout",
     "output_type": "stream",
     "text": [
      "{'pablo': 34, 'sofia': 34, 'gisella': 34}\n"
     ]
    }
   ],
   "source": [
    "print(student_info)\n",
    "\n"
   ]
  },
  {
   "cell_type": "code",
   "execution_count": 11,
   "id": "d8280893",
   "metadata": {},
   "outputs": [
    {
     "name": "stdout",
     "output_type": "stream",
     "text": [
      "34\n"
     ]
    }
   ],
   "source": [
    "print(student_info[\"pablo\"])"
   ]
  },
  {
   "cell_type": "code",
   "execution_count": null,
   "id": "c9763511",
   "metadata": {},
   "outputs": [],
   "source": []
  },
  {
   "cell_type": "code",
   "execution_count": 8,
   "id": "df6a16ad",
   "metadata": {},
   "outputs": [],
   "source": [
    "#Exercise_2\n",
    "product_prices={\"apple\":4.5,\"banana\":3.5,\"pear\":2.5,\"strawberry\":3.5}"
   ]
  },
  {
   "cell_type": "code",
   "execution_count": 9,
   "id": "049f4ee9",
   "metadata": {},
   "outputs": [],
   "source": [
    "#Exercise_3\n",
    "squared_numbers={1:1,2:4,3:9,4:16,5:25,6:36,7:49,8:64,9:81,10:100}"
   ]
  },
  {
   "cell_type": "code",
   "execution_count": null,
   "id": "988e65ed",
   "metadata": {},
   "outputs": [],
   "source": []
  },
  {
   "cell_type": "code",
   "execution_count": null,
   "id": "2ac97563",
   "metadata": {},
   "outputs": [],
   "source": []
  },
  {
   "cell_type": "code",
   "execution_count": null,
   "id": "978e9012",
   "metadata": {},
   "outputs": [],
   "source": []
  },
  {
   "cell_type": "code",
   "execution_count": null,
   "id": "b2bec844",
   "metadata": {},
   "outputs": [],
   "source": []
  }
 ],
 "metadata": {
  "kernelspec": {
   "display_name": "Python 3 (ipykernel)",
   "language": "python",
   "name": "python3"
  },
  "language_info": {
   "codemirror_mode": {
    "name": "ipython",
    "version": 3
   },
   "file_extension": ".py",
   "mimetype": "text/x-python",
   "name": "python",
   "nbconvert_exporter": "python",
   "pygments_lexer": "ipython3",
   "version": "3.11.5"
  }
 },
 "nbformat": 4,
 "nbformat_minor": 5
}
