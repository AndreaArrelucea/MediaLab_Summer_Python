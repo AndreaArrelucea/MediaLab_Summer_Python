{
 "cells": [
  {
   "cell_type": "code",
   "execution_count": 1,
   "id": "e5cb4b5c",
   "metadata": {},
   "outputs": [],
   "source": [
    "#Exercise_1\n",
    "student_info={\"pablo\":34,\"sofia\":34,\"gisella\":34}\n"
   ]
  },
  {
   "cell_type": "code",
   "execution_count": 2,
   "id": "fa93d86a",
   "metadata": {},
   "outputs": [
    {
     "data": {
      "text/plain": [
       "dict"
      ]
     },
     "execution_count": 2,
     "metadata": {},
     "output_type": "execute_result"
    }
   ],
   "source": [
    "type(student_info)\n"
   ]
  },
  {
   "cell_type": "code",
   "execution_count": 3,
   "id": "aab9fc63",
   "metadata": {},
   "outputs": [
    {
     "name": "stdout",
     "output_type": "stream",
     "text": [
      "{'pablo': 34, 'sofia': 34, 'gisella': 34}\n"
     ]
    }
   ],
   "source": [
    "print(student_info)\n",
    "\n"
   ]
  },
  {
   "cell_type": "code",
   "execution_count": 7,
   "id": "81cdbc94",
   "metadata": {},
   "outputs": [
    {
     "data": {
      "text/plain": [
       "34"
      ]
     },
     "execution_count": 7,
     "metadata": {},
     "output_type": "execute_result"
    }
   ],
   "source": [
    "student_info[\"pablo\"]"
   ]
  },
  {
   "cell_type": "code",
   "execution_count": 8,
   "id": "ccc0594b",
   "metadata": {},
   "outputs": [],
   "source": [
    "#Exercise_2\n",
    "product_prices={\"apple\":4.5,\"banana\":3.5,\"pear\":2.5,\"strawberry\":3.5}"
   ]
  },
  {
   "cell_type": "code",
   "execution_count": 9,
   "id": "ca7de58c",
   "metadata": {},
   "outputs": [],
   "source": [
    "#Exercise_3\n",
    "squared_numbers={1:1,2:4,3:9,4:16,5:25,6:36,7:49,8:64,9:81,10:100}"
   ]
  },
  {
   "cell_type": "code",
   "execution_count": null,
   "id": "b7e87895",
   "metadata": {},
   "outputs": [],
   "source": []
  },
  {
   "cell_type": "code",
   "execution_count": null,
   "id": "987c868b",
   "metadata": {},
   "outputs": [],
   "source": []
  },
  {
   "cell_type": "code",
   "execution_count": null,
   "id": "976540c7",
   "metadata": {},
   "outputs": [],
   "source": []
  },
  {
   "cell_type": "code",
   "execution_count": null,
   "id": "c921047c",
   "metadata": {},
   "outputs": [],
   "source": []
  }
 ],
 "metadata": {
  "kernelspec": {
   "display_name": "Python 3 (ipykernel)",
   "language": "python",
   "name": "python3"
  },
  "language_info": {
   "codemirror_mode": {
    "name": "ipython",
    "version": 3
   },
   "file_extension": ".py",
   "mimetype": "text/x-python",
   "name": "python",
   "nbconvert_exporter": "python",
   "pygments_lexer": "ipython3",
   "version": "3.11.5"
  }
 },
 "nbformat": 4,
 "nbformat_minor": 5
}
