{
 "cells": [
  {
   "cell_type": "markdown",
   "id": "44f81bbe",
   "metadata": {},
   "source": [
    "# Assignment 2"
   ]
  },
  {
   "cell_type": "markdown",
   "id": "1b9b7833",
   "metadata": {},
   "source": [
    "### Exercise 1: Basic Dictionary Creation and Access\n",
    "Objective: Create a dictionary named student_info containing at least three key-value pairs where keys are student names (as strings) and values are their respective ages (as integers). Then, access and print the age of a specific student."
   ]
  },
  {
   "cell_type": "markdown",
   "id": "efd06477",
   "metadata": {},
   "source": [
    "### Exercise 2: Modifying Dictionary Values\n",
    "**Objective:** Start with a dictionary `product_prices` where keys are product names (strings) and values are their prices (floats). Select a product and update its price. Then, add a new product with its price to the dictionary.\n",
    "\n",
    "\n",
    "### Exercise 3: Dictionary Comprehension\n",
    "**Objective:** Create a dictionary `squared_numbers` using dictionary comprehension where keys are integers from 1 to 10, and values are the squares of these keys.\n",
    "\n",
    "### Exercise 4: Nested Dictionaries\n",
    "**Objective:** Create a nested dictionary `employee_data` where each key is an employee ID (integer) and each value is another dictionary with keys 'Name', 'Position', and 'Salary'. Then, access and print the name and position of a specific employee by their ID. This dictionary `employee_data` should have only 5 keys.\n",
    "\n",
    "### Exercise 5: Merging Dictionaries\n",
    "**Objective:** You have two dictionaries `dict1` and `dict2` with non-overlapping keys. Merge these two dictionaries into a new dictionary `merged_dict` and print its contents. This `merged_dict` dict should have all the keys.\n",
    "\n"
   ]
  },
  {
   "cell_type": "code",
   "execution_count": 65,
   "id": "26b990b2",
   "metadata": {},
   "outputs": [],
   "source": [
    "# Initial product prices\n",
    "product_prices = {\n",
    "    \"Laptop\": 999.99,\n",
    "    \"Smartphone\": 499.99,\n",
    "    \"Headphones\": 89.99,\n",
    "    \"Camera\": 279.99\n",
    "}"
   ]
  },
  {
   "cell_type": "code",
   "execution_count": 165,
   "id": "d5cc1405",
   "metadata": {},
   "outputs": [],
   "source": [
    "dict1 = {\"A\": 1, \"B\": 2, \"C\": 3}\n",
    "dict2 = {\"D\": 4, \"E\": 5, \"F\": 6}"
   ]
  },
  {
   "cell_type": "markdown",
   "id": "c2cfc32a",
   "metadata": {},
   "source": [
    "## Excercise 1"
   ]
  },
  {
   "cell_type": "code",
   "execution_count": 32,
   "id": "baa3bb73",
   "metadata": {},
   "outputs": [],
   "source": [
    "# First we create the Dictionary with the studen's names and their ages.\n",
    "student_info = { \"Marta\" : 27, \"Sandra\": 24, \"Carola\": 21, \"Antoni\": 23 }"
   ]
  },
  {
   "cell_type": "code",
   "execution_count": 30,
   "id": "09d7e3a4",
   "metadata": {},
   "outputs": [
    {
     "data": {
      "text/plain": [
       "dict"
      ]
     },
     "execution_count": 30,
     "metadata": {},
     "output_type": "execute_result"
    }
   ],
   "source": [
    "# We verify the object type we have created.\n",
    "type (student_info)"
   ]
  },
  {
   "cell_type": "code",
   "execution_count": 33,
   "id": "5cf38faf",
   "metadata": {},
   "outputs": [
    {
     "name": "stdout",
     "output_type": "stream",
     "text": [
      "27\n"
     ]
    }
   ],
   "source": [
    "# Now we print the age of a specific student.\n",
    "print(student_info [\"Marta\"])"
   ]
  },
  {
   "cell_type": "code",
   "execution_count": 34,
   "id": "67e965d2",
   "metadata": {},
   "outputs": [
    {
     "name": "stdout",
     "output_type": "stream",
     "text": [
      "21\n"
     ]
    }
   ],
   "source": [
    "print(student_info[\"Carola\"])"
   ]
  },
  {
   "cell_type": "markdown",
   "id": "b90c06b1",
   "metadata": {},
   "source": [
    "## Excercise 2"
   ]
  },
  {
   "cell_type": "code",
   "execution_count": 66,
   "id": "530b4222",
   "metadata": {},
   "outputs": [
    {
     "name": "stdout",
     "output_type": "stream",
     "text": [
      "{'Laptop': 999.99, 'Smartphone': 499.99, 'Headphones': 89.99, 'Camera': 279.99}\n"
     ]
    }
   ],
   "source": [
    "print(product_prices)"
   ]
  },
  {
   "cell_type": "code",
   "execution_count": 69,
   "id": "e00f27e1",
   "metadata": {},
   "outputs": [],
   "source": [
    "product_prices.update ({\"Laptop\" : 777.77})"
   ]
  },
  {
   "cell_type": "code",
   "execution_count": 70,
   "id": "f8b86e6e",
   "metadata": {},
   "outputs": [
    {
     "data": {
      "text/plain": [
       "{'Laptop': 777.77, 'Smartphone': 499.99, 'Headphones': 89.99, 'Camera': 279.99}"
      ]
     },
     "execution_count": 70,
     "metadata": {},
     "output_type": "execute_result"
    }
   ],
   "source": [
    "product_prices"
   ]
  },
  {
   "cell_type": "code",
   "execution_count": 71,
   "id": "3515b4f1",
   "metadata": {},
   "outputs": [],
   "source": [
    "product_prices.update( { \"tablet\" : 500.99  } )"
   ]
  },
  {
   "cell_type": "markdown",
   "id": "9320ccc1",
   "metadata": {},
   "source": [
    "product_prices"
   ]
  },
  {
   "cell_type": "markdown",
   "id": "5c629f19",
   "metadata": {},
   "source": [
    "## Excercise 3"
   ]
  },
  {
   "cell_type": "code",
   "execution_count": 89,
   "id": "fd725c4b",
   "metadata": {},
   "outputs": [
    {
     "data": {
      "text/plain": [
       "{1: 1, 2: 4, 3: 9, 4: 16, 5: 25, 6: 36, 7: 49, 8: 64, 9: 81, 10: 100}"
      ]
     },
     "execution_count": 89,
     "metadata": {},
     "output_type": "execute_result"
    }
   ],
   "source": [
    "# This is the long way to do it.\n",
    "squared_numbers1 ={1:1**2, 2:2**2, 3:3**2, 4:4**2, 5:5**2, 6:6**2, 7:7**2, 8:8**2,9:9**2, 10:10**2}\n",
    "squared_numbers1"
   ]
  },
  {
   "cell_type": "code",
   "execution_count": 87,
   "id": "241c6ffa",
   "metadata": {},
   "outputs": [],
   "source": [
    "# Here we solved the problem using dictionary comprehension.\n",
    "squared_numbers = {number: number**2 for number in range(1, 11)}"
   ]
  },
  {
   "cell_type": "code",
   "execution_count": 88,
   "id": "848c579f",
   "metadata": {},
   "outputs": [
    {
     "data": {
      "text/plain": [
       "{1: 1, 2: 4, 3: 9, 4: 16, 5: 25, 6: 36, 7: 49, 8: 64, 9: 81, 10: 100}"
      ]
     },
     "execution_count": 88,
     "metadata": {},
     "output_type": "execute_result"
    }
   ],
   "source": [
    "squared_numbers"
   ]
  },
  {
   "cell_type": "code",
   "execution_count": 90,
   "id": "189cd129",
   "metadata": {
    "scrolled": true
   },
   "outputs": [
    {
     "data": {
      "text/plain": [
       "dict"
      ]
     },
     "execution_count": 90,
     "metadata": {},
     "output_type": "execute_result"
    }
   ],
   "source": [
    "type(squared_numbers)"
   ]
  },
  {
   "cell_type": "markdown",
   "id": "c251c00c",
   "metadata": {},
   "source": [
    "## Excercise 4"
   ]
  },
  {
   "cell_type": "code",
   "execution_count": 157,
   "id": "8134d133",
   "metadata": {},
   "outputs": [
    {
     "data": {
      "text/plain": [
       "{20131266: {'Name': 'Marco', 'Position': 'Marketing', 'Salary': 100},\n",
       " 20111742: {'Name': 'Maria', 'Position': 'Doctor', 'Salary': 50},\n",
       " 20202366: {'Name': 'Juana', 'Position': 'Designer', 'Salary': 200},\n",
       " 20091254: {'Name': 'Pedro', 'Position': 'CEO', 'Salary': 400},\n",
       " 20150364: {'Name': 'Alonso', 'Position': 'Manager', 'Salary': 30}}"
      ]
     },
     "execution_count": 157,
     "metadata": {},
     "output_type": "execute_result"
    }
   ],
   "source": [
    "employee_data = {20131266: {\"Name\": \"Marco\", \"Position\":\"Marketing\", \"Salary\": 100 }, \n",
    "                 20111742: {\"Name\": \"Maria\", \"Position\":\"Doctor\", \"Salary\": 50 },\n",
    "                20202366: {\"Name\": \"Juana\", \"Position\":\"Designer\", \"Salary\": 200 },\n",
    "                20091254: {\"Name\": \"Pedro\", \"Position\":\"CEO\", \"Salary\": 400 },\n",
    "                20150364: {\"Name\": \"Alonso\", \"Position\":\"Manager\", \"Salary\": 30 }}\n",
    "employee_data"
   ]
  },
  {
   "cell_type": "code",
   "execution_count": 159,
   "id": "e2a86fab",
   "metadata": {},
   "outputs": [
    {
     "name": "stdout",
     "output_type": "stream",
     "text": [
      "Marco\n",
      "Marketing\n"
     ]
    }
   ],
   "source": [
    "print(employee_data [20131266] [\"Name\"])\n",
    "print(employee_data [20131266] [\"Position\"])"
   ]
  },
  {
   "cell_type": "markdown",
   "id": "f670da22",
   "metadata": {},
   "source": [
    "## Exercise 5: Merging Dictionaries"
   ]
  },
  {
   "cell_type": "code",
   "execution_count": 191,
   "id": "73481a87",
   "metadata": {},
   "outputs": [
    {
     "data": {
      "text/plain": [
       "{'A': 1, 'B': 2, 'C': 3, 'D': 4, 'E': 5, 'F': 6}"
      ]
     },
     "execution_count": 191,
     "metadata": {},
     "output_type": "execute_result"
    }
   ],
   "source": [
    "dict1"
   ]
  },
  {
   "cell_type": "code",
   "execution_count": 190,
   "id": "42b4a939",
   "metadata": {},
   "outputs": [
    {
     "data": {
      "text/plain": [
       "{'D': 4, 'E': 5, 'F': 6}"
      ]
     },
     "execution_count": 190,
     "metadata": {},
     "output_type": "execute_result"
    }
   ],
   "source": [
    "dict2"
   ]
  },
  {
   "cell_type": "code",
   "execution_count": 188,
   "id": "f9b0fcc2",
   "metadata": {},
   "outputs": [
    {
     "data": {
      "text/plain": [
       "{'A': 1, 'B': 2, 'C': 3, 'D': 4, 'E': 5, 'F': 6}"
      ]
     },
     "execution_count": 188,
     "metadata": {},
     "output_type": "execute_result"
    }
   ],
   "source": [
    "merged_dict = {**dict1, **dict2}\n",
    "merged_dict"
   ]
  },
  {
   "cell_type": "markdown",
   "id": "b9b4a06c",
   "metadata": {},
   "source": [
    "## Pandas"
   ]
  },
  {
   "cell_type": "markdown",
   "id": "450d0d1f",
   "metadata": {},
   "source": [
    "### Exercise 1: Selecting Single Column with .loc\n",
    "**Objective**: Use .loc to select and print only the 'Name' column for all rows.\n",
    "\n",
    "### Exercise 2: Row Slicing with .iloc\n",
    "**Objective**: Use .iloc to select and print rows 2 through 4 (inclusive).\n",
    "\n",
    "### Exercise 3: Selecting Multiple Columns with .iloc\n",
    "**Objective**: Use .iloc to select and print the 'Name' and 'Age' columns for all rows.\n",
    "\n",
    "### Exercise 4: Conditional Selection with .loc\n",
    "**Objective**: Use .loc to select and print rows where the 'Age' is greater than 30.\n",
    "\n",
    "### Exercise 5: Modifying Data with .loc\n",
    "**Objective**: Use .loc to change the 'City' of the person named 'Alice' to 'Boston'. Then, print the updated DataFrame."
   ]
  },
  {
   "cell_type": "code",
   "execution_count": null,
   "id": "85e88f4c",
   "metadata": {},
   "outputs": [],
   "source": [
    "# Creating a DataFrame for the exercise\n",
    "data = {\n",
    "    'Name': ['Alice', 'Bob', 'Charlie', 'David', 'Eva'],\n",
    "    'Age': [25, 30, 35, 40, 45],\n",
    "    'City': ['New York', 'Los Angeles', 'Chicago', 'Houston', 'Miami']\n",
    "}"
   ]
  }
 ],
 "metadata": {
  "kernelspec": {
   "display_name": "Python 3 (ipykernel)",
   "language": "python",
   "name": "python3"
  },
  "language_info": {
   "codemirror_mode": {
    "name": "ipython",
    "version": 3
   },
   "file_extension": ".py",
   "mimetype": "text/x-python",
   "name": "python",
   "nbconvert_exporter": "python",
   "pygments_lexer": "ipython3",
   "version": "3.11.5"
  }
 },
 "nbformat": 4,
 "nbformat_minor": 5
}
