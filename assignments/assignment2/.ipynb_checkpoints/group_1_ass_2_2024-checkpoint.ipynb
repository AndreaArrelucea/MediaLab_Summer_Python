{
 "cells": [
  {
   "cell_type": "code",
   "execution_count": 18,
   "id": "1f8fff88",
   "metadata": {},
   "outputs": [],
   "source": [
    "#Exercise_1\n",
    "student_info={\"pablo\":34,\"sofia\":35,\"gisella\":43}"
   ]
  },
  {
   "cell_type": "code",
   "execution_count": 19,
   "id": "99011a67",
   "metadata": {},
   "outputs": [
    {
     "data": {
      "text/plain": [
       "dict"
      ]
     },
     "execution_count": 19,
     "metadata": {},
     "output_type": "execute_result"
    }
   ],
   "source": [
    "type(student_info)"
   ]
  },
  {
   "cell_type": "code",
   "execution_count": 20,
   "id": "60c178a4",
   "metadata": {},
   "outputs": [
    {
     "name": "stdout",
     "output_type": "stream",
     "text": [
      "{'pablo': 34, 'sofia': 35, 'gisella': 43}\n"
     ]
    }
   ],
   "source": [
    "print(student_info)"
   ]
  },
  {
   "cell_type": "code",
   "execution_count": 21,
   "id": "e1924e8f",
   "metadata": {},
   "outputs": [
    {
     "name": "stdout",
     "output_type": "stream",
     "text": [
      "34\n"
     ]
    }
   ],
   "source": [
    "print(student_info[\"pablo\"])"
   ]
  },
  {
   "cell_type": "code",
   "execution_count": 1,
   "id": "02ecabe0",
   "metadata": {},
   "outputs": [],
   "source": [
    "#Exercise_2 \n",
    "product_prices = {\"arroz\": 2.5, \"azucar\": 1.2, \"frejoles\": 0.6}"
   ]
  },
  {
   "cell_type": "code",
   "execution_count": 2,
   "id": "c1b110b9",
   "metadata": {},
   "outputs": [
    {
     "data": {
      "text/plain": [
       "{'arroz': 2.5, 'azucar': 1.2, 'frejoles': 0.9}"
      ]
     },
     "execution_count": 2,
     "metadata": {},
     "output_type": "execute_result"
    }
   ],
   "source": [
    "product_prices[\"frejoles\"] = 0.9\n",
    "product_prices"
   ]
  },
  {
   "cell_type": "code",
   "execution_count": 3,
   "id": "9554132f",
   "metadata": {},
   "outputs": [],
   "source": [
    "product_prices[\"harina\"] = 1.2"
   ]
  },
  {
   "cell_type": "code",
   "execution_count": 4,
   "id": "d33e6d6d",
   "metadata": {},
   "outputs": [
    {
     "data": {
      "text/plain": [
       "{'arroz': 2.5, 'azucar': 1.2, 'frejoles': 0.9, 'harina': 1.2}"
      ]
     },
     "execution_count": 4,
     "metadata": {},
     "output_type": "execute_result"
    }
   ],
   "source": [
    "product_prices"
   ]
  },
  {
   "cell_type": "code",
   "execution_count": null,
   "id": "c76c700d",
   "metadata": {},
   "outputs": [],
   "source": []
  }
 ],
 "metadata": {
  "kernelspec": {
   "display_name": "Python 3 (ipykernel)",
   "language": "python",
   "name": "python3"
  },
  "language_info": {
   "codemirror_mode": {
    "name": "ipython",
    "version": 3
   },
   "file_extension": ".py",
   "mimetype": "text/x-python",
   "name": "python",
   "nbconvert_exporter": "python",
   "pygments_lexer": "ipython3",
   "version": "3.11.5"
  }
 },
 "nbformat": 4,
 "nbformat_minor": 5
}
