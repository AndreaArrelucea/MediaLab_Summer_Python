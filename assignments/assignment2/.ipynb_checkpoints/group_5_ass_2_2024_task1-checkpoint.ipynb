{
 "cells": [
  {
   "cell_type": "markdown",
   "id": "44f81bbe",
   "metadata": {},
   "source": [
    "# Assignment 2"
   ]
  },
  {
   "cell_type": "markdown",
   "id": "1b9b7833",
   "metadata": {},
   "source": [
    "### Exercise 1: Basic Dictionary Creation and Access\n",
    "Objective: Create a dictionary named student_info containing at least three key-value pairs where keys are student names (as strings) and values are their respective ages (as integers). Then, access and print the age of a specific student."
   ]
  },
  {
   "cell_type": "code",
   "execution_count": 1,
   "id": "af814c0b",
   "metadata": {},
   "outputs": [],
   "source": [
    "student_info = {\"katia\":25, \"edu\": 23, \"ana\":23, \"pame\":24}  "
   ]
  },
  {
   "cell_type": "code",
   "execution_count": 2,
   "id": "2f9b719d",
   "metadata": {},
   "outputs": [
    {
     "name": "stdout",
     "output_type": "stream",
     "text": [
      "25\n"
     ]
    }
   ],
   "source": [
    "print(student_info[\"katia\"]) "
   ]
  },
  {
   "cell_type": "markdown",
   "id": "efd06477",
   "metadata": {},
   "source": [
    "### Exercise 2: Modifying Dictionary Values\n",
    "**Objective:** Start with a dictionary `product_prices` where keys are product names (strings) and values are their prices (floats). Select a product and update its price. Then, add a new product with its price to the dictionary.\n",
    "\n",
    "\n",
    "### Exercise 3: Dictionary Comprehension\n",
    "**Objective:** Create a dictionary `squared_numbers` using dictionary comprehension where keys are integers from 1 to 10, and values are the squares of these keys.\n",
    "\n",
    "### Exercise 4: Nested Dictionaries\n",
    "**Objective:** Create a nested dictionary `employee_data` where each key is an employee ID (integer) and each value is another dictionary with keys 'Name', 'Position', and 'Salary'. Then, access and print the name and position of a specific employee by their ID. This dictionary `employee_data` should have only 5 keys.\n",
    "\n",
    "### Exercise 5: Merging Dictionaries\n",
    "**Objective:** You have two dictionaries `dict1` and `dict2` with non-overlapping keys. Merge these two dictionaries into a new dictionary `merged_dict` and print its contents. This `merged_dict` dict should have all the keys.\n",
    "\n"
   ]
  },
  {
   "cell_type": "code",
   "execution_count": 5,
   "id": "26b990b2",
   "metadata": {},
   "outputs": [],
   "source": [
    "# Initial product prices\n",
    "product_prices = {\n",
    "    \"Laptop\": 999.99,\n",
    "    \"Smartphone\": 499.99,\n",
    "    \"Headphones\": 89.99,\n",
    "    \"Camera\": 279.99\n",
    "} "
   ]
  },
  {
   "cell_type": "code",
   "execution_count": 6,
   "id": "d5cc1405",
   "metadata": {},
   "outputs": [],
   "source": [
    "dict1 = {\"A\": 1, \"B\": 2, \"C\": 3}\n",
    "dict2 = {\"D\": 4, \"E\": 5, \"F\": 6} "
   ]
  },
  {
   "cell_type": "markdown",
   "id": "545ef33d",
   "metadata": {},
   "source": [
    "## Ejercicio 2"
   ]
  },
  {
   "cell_type": "code",
   "execution_count": 8,
   "id": "246f8e2f",
   "metadata": {},
   "outputs": [],
   "source": [
    "product_prices[\"Laptop\"] = 1200 "
   ]
  },
  {
   "cell_type": "code",
   "execution_count": 11,
   "id": "8c59d9b2",
   "metadata": {},
   "outputs": [],
   "source": [
    "product_prices[\"microphone\"] = 100  "
   ]
  },
  {
   "cell_type": "code",
   "execution_count": 12,
   "id": "27a8ef71",
   "metadata": {},
   "outputs": [
    {
     "name": "stdout",
     "output_type": "stream",
     "text": [
      "{'Laptop': 1200, 'Smartphone': 499.99, 'Headphones': 89.99, 'Camera': 279.99, 'microphone': 100}\n"
     ]
    }
   ],
   "source": [
    "print(product_prices) "
   ]
  },
  {
   "cell_type": "markdown",
   "id": "b9b4a06c",
   "metadata": {},
   "source": [
    "## Pandas"
   ]
  },
  {
   "cell_type": "markdown",
   "id": "450d0d1f",
   "metadata": {},
   "source": [
    "### Exercise 1: Selecting Single Column with .loc\n",
    "**Objective**: Use .loc to select and print only the 'Name' column for all rows.\n",
    "\n",
    "### Exercise 2: Row Slicing with .iloc\n",
    "**Objective**: Use .iloc to select and print rows 2 through 4 (inclusive).\n",
    "\n",
    "### Exercise 3: Selecting Multiple Columns with .iloc\n",
    "**Objective**: Use .iloc to select and print the 'Name' and 'Age' columns for all rows.\n",
    "\n",
    "### Exercise 4: Conditional Selection with .loc\n",
    "**Objective**: Use .loc to select and print rows where the 'Age' is greater than 30.\n",
    "\n",
    "### Exercise 5: Modifying Data with .loc\n",
    "**Objective**: Use .loc to change the 'City' of the person named 'Alice' to 'Boston'. Then, print the updated DataFrame."
   ]
  },
  {
   "cell_type": "code",
   "execution_count": null,
   "id": "85e88f4c",
   "metadata": {},
   "outputs": [],
   "source": [
    "# Creating a DataFrame for the exercise\n",
    "data = {\n",
    "    'Name': ['Alice', 'Bob', 'Charlie', 'David', 'Eva'],\n",
    "    'Age': [25, 30, 35, 40, 45],\n",
    "    'City': ['New York', 'Los Angeles', 'Chicago', 'Houston', 'Miami']\n",
    "}"
   ]
  }
 ],
 "metadata": {
  "kernelspec": {
   "display_name": "Python 3 (ipykernel)",
   "language": "python",
   "name": "python3"
  },
  "language_info": {
   "codemirror_mode": {
    "name": "ipython",
    "version": 3
   },
   "file_extension": ".py",
   "mimetype": "text/x-python",
   "name": "python",
   "nbconvert_exporter": "python",
   "pygments_lexer": "ipython3",
   "version": "3.11.5"
  }
 },
 "nbformat": 4,
 "nbformat_minor": 5
}
