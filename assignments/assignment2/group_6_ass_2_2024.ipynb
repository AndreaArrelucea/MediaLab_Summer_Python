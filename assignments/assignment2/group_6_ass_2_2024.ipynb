{
 "cells": [
  {
   "cell_type": "markdown",
   "id": "44f81bbe",
   "metadata": {},
   "source": [
    "# Assignment 2"
   ]
  },
  {
   "cell_type": "markdown",
   "id": "1b9b7833",
   "metadata": {},
   "source": [
    "### Exercise 1: Basic Dictionary Creation and Access\n",
    "Objective: Create a dictionary named student_info containing at least three key-value pairs where keys are student names (as strings) and values are their respective ages (as integers). Then, access and print the age of a specific student."
   ]
  },
  {
   "cell_type": "code",
   "execution_count": 8,
   "id": "807a2672",
   "metadata": {},
   "outputs": [
    {
     "data": {
      "text/plain": [
       "dict"
      ]
     },
     "execution_count": 8,
     "metadata": {},
     "output_type": "execute_result"
    }
   ],
   "source": [
    "student_info= {'Joe': 23, 'Aaron': 22, 'Vacho': 24 }\n",
    "type(student_info)"
   ]
  },
  {
   "cell_type": "code",
   "execution_count": 10,
   "id": "405774f0",
   "metadata": {},
   "outputs": [
    {
     "name": "stdout",
     "output_type": "stream",
     "text": [
      "24\n"
     ]
    }
   ],
   "source": [
    "print(student_info['Vacho'])"
   ]
  },
  {
   "cell_type": "markdown",
   "id": "6c289428",
   "metadata": {},
   "source": [
    "### Exercise 2: Modifying Dictionary Values\n",
    "**Objective:** Start with a dictionary `product_prices` where keys are product names (strings) and values are their prices (floats). Select a product and update its price. Then, add a new product with its price to the dictionary"
   ]
  },
  {
   "cell_type": "code",
   "execution_count": 11,
   "id": "dd1cc1e2",
   "metadata": {},
   "outputs": [
    {
     "data": {
      "text/plain": [
       "dict"
      ]
     },
     "execution_count": 11,
     "metadata": {},
     "output_type": "execute_result"
    }
   ],
   "source": [
    "product_prices={'ron': 20.90, 'pisco': 34.90, 'vodka': 28.90}\n",
    "type(product_prices)"
   ]
  },
  {
   "cell_type": "code",
   "execution_count": 12,
   "id": "17199ed6",
   "metadata": {},
   "outputs": [],
   "source": [
    "product_prices['ron']= 25.90"
   ]
  },
  {
   "cell_type": "code",
   "execution_count": 14,
   "id": "8098038a",
   "metadata": {},
   "outputs": [
    {
     "name": "stdout",
     "output_type": "stream",
     "text": [
      "{'ron': 25.9, 'pisco': 34.9, 'vodka': 28.9}\n"
     ]
    }
   ],
   "source": [
    "print(product_prices)"
   ]
  },
  {
   "cell_type": "code",
   "execution_count": 16,
   "id": "99384352",
   "metadata": {},
   "outputs": [],
   "source": [
    "product_prices.update({'vino': 19.80})"
   ]
  },
  {
   "cell_type": "code",
   "execution_count": 17,
   "id": "e45540c5",
   "metadata": {},
   "outputs": [
    {
     "name": "stdout",
     "output_type": "stream",
     "text": [
      "{'ron': 25.9, 'pisco': 34.9, 'vodka': 28.9, 'vino': 19.8}\n"
     ]
    }
   ],
   "source": [
    "print(product_prices)"
   ]
  },
  {
   "cell_type": "markdown",
   "id": "c851f023",
   "metadata": {},
   "source": [
    "### Exercise 3: Dictionary Comprehension\n",
    "**Objective:** Create a dictionary `squared_numbers` using dictionary comprehension where keys are integers from 1 to 10, and values are the squares of these keys."
   ]
  },
  {
   "cell_type": "code",
   "execution_count": 10,
   "id": "c405ca67",
   "metadata": {},
   "outputs": [],
   "source": [
    "squared_numbers={x: x**2 for x in range(1,11)}"
   ]
  },
  {
   "cell_type": "code",
   "execution_count": 11,
   "id": "2aac5f06",
   "metadata": {},
   "outputs": [
    {
     "name": "stdout",
     "output_type": "stream",
     "text": [
      "{1: 1, 2: 4, 3: 9, 4: 16, 5: 25, 6: 36, 7: 49, 8: 64, 9: 81, 10: 100}\n"
     ]
    }
   ],
   "source": [
    "print(squared_numbers)"
   ]
  },
  {
   "cell_type": "markdown",
   "id": "9844af9b",
   "metadata": {},
   "source": [
    "### Exercise 4: Nested Dictionaries\n",
    "**Objective:** Create a nested dictionary `employee_data` where each key is an employee ID (integer) and each value is another dictionary with keys 'Name', 'Position', and 'Salary'. Then, access and print the name and position of a specific employee by their ID. This dictionary `employee_data` should have only 5 keys."
   ]
  },
  {
   "cell_type": "code",
   "execution_count": 32,
   "id": "56299bda",
   "metadata": {},
   "outputs": [
    {
     "data": {
      "text/plain": [
       "dict"
      ]
     },
     "execution_count": 32,
     "metadata": {},
     "output_type": "execute_result"
    }
   ],
   "source": [
    "employee_data = {101 : {'Name': 'Carellia', 'Position': 'Audiovisual Communicator', 'Salary': 1025},\n",
    "102 : {'Name': 'Vacho', 'Position': 'Performance Analyst', 'Salary': 1200},\n",
    "103 : {'Name': 'Aaron', 'Position': 'Freelancer', 'Salary': 1300},\n",
    "104 : {'Name': 'Joe', 'Position': 'Content Creator', 'Salary': 1500},\n",
    "105 : {'Name': 'Allison', 'Position': 'Media Analyst', 'Salary': 1200}}\n",
    "type(employee_data)"
   ]
  },
  {
   "cell_type": "code",
   "execution_count": 33,
   "id": "386dc756",
   "metadata": {},
   "outputs": [
    {
     "name": "stdout",
     "output_type": "stream",
     "text": [
      "Carellia\n"
     ]
    }
   ],
   "source": [
    "print(employee_data[101]['Name'])"
   ]
  },
  {
   "cell_type": "code",
   "execution_count": 34,
   "id": "0b730273",
   "metadata": {},
   "outputs": [
    {
     "name": "stdout",
     "output_type": "stream",
     "text": [
      "Audiovisual Communicator\n"
     ]
    }
   ],
   "source": [
    "print(employee_data[101]['Position'])"
   ]
  },
  {
   "cell_type": "markdown",
   "id": "efd06477",
   "metadata": {},
   "source": [
    "### Exercise 5: Merging Dictionaries\n",
    "**Objective:** You have two dictionaries `dict1` and `dict2` with non-overlapping keys. Merge these two dictionaries into a new dictionary `merged_dict` and print its contents. This `merged_dict` dict should have all the keys."
   ]
  },
  {
   "cell_type": "code",
   "execution_count": null,
   "id": "26b990b2",
   "metadata": {},
   "outputs": [],
   "source": [
    "# Initial product prices\n",
    "product_prices = {\n",
    "    \"Laptop\": 999.99,\n",
    "    \"Smartphone\": 499.99,\n",
    "    \"Headphones\": 89.99,\n",
    "    \"Camera\": 279.99\n",
    "}"
   ]
  },
  {
   "cell_type": "code",
   "execution_count": 1,
   "id": "d5cc1405",
   "metadata": {},
   "outputs": [],
   "source": [
    "dict1 = {\"A\": 1, \"B\": 2, \"C\": 3}\n",
    "dict2 = {\"D\": 4, \"E\": 5, \"F\": 6}"
   ]
  },
  {
   "cell_type": "markdown",
   "id": "b9b4a06c",
   "metadata": {},
   "source": [
    "## Pandas"
   ]
  },
  {
   "cell_type": "markdown",
   "id": "450d0d1f",
   "metadata": {},
   "source": [
    "### Exercise 1: Selecting Single Column with .loc\n",
    "**Objective**: Use .loc to select and print only the 'Name' column for all rows.\n",
    "\n",
    "### Exercise 2: Row Slicing with .iloc\n",
    "**Objective**: Use .iloc to select and print rows 2 through 4 (inclusive).\n",
    "\n",
    "### Exercise 3: Selecting Multiple Columns with .iloc\n",
    "**Objective**: Use .iloc to select and print the 'Name' and 'Age' columns for all rows.\n",
    "\n",
    "### Exercise 4: Conditional Selection with .loc\n",
    "**Objective**: Use .loc to select and print rows where the 'Age' is greater than 30.\n",
    "\n",
    "### Exercise 5: Modifying Data with .loc\n",
    "**Objective**: Use .loc to change the 'City' of the person named 'Alice' to 'Boston'. Then, print the updated DataFrame."
   ]
  },
  {
   "cell_type": "code",
   "execution_count": null,
   "id": "85e88f4c",
   "metadata": {},
   "outputs": [],
   "source": [
    "# Creating a DataFrame for the exercise\n",
    "data = {\n",
    "    'Name': ['Alice', 'Bob', 'Charlie', 'David', 'Eva'],\n",
    "    'Age': [25, 30, 35, 40, 45],\n",
    "    'City': ['New York', 'Los Angeles', 'Chicago', 'Houston', 'Miami']\n",
    "}"
   ]
  }
 ],
 "metadata": {
  "kernelspec": {
   "display_name": "Python 3 (ipykernel)",
   "language": "python",
   "name": "python3"
  },
  "language_info": {
   "codemirror_mode": {
    "name": "ipython",
    "version": 3
   },
   "file_extension": ".py",
   "mimetype": "text/x-python",
   "name": "python",
   "nbconvert_exporter": "python",
   "pygments_lexer": "ipython3",
   "version": "3.11.5"
  }
 },
 "nbformat": 4,
 "nbformat_minor": 5
}
